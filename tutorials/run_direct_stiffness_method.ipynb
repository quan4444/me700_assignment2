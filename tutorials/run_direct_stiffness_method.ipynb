{
 "cells": [
  {
   "cell_type": "markdown",
   "metadata": {},
   "source": [
    "## Example problem - Single line\n",
    "\n",
    "We have a single beam with 2 connected nodes, one at $[0,0,0]$, and one at $[1,0,0]$. The left node is fixed, and the right node experiences an external force $F_y=-1000$. The beam has the following properties $E=210e9$,$\\nu=0.3$,$A=0.01$,$I_z=1e-5$,$I_y=1e-5$,$I_p=1e-5$,$J=1.0$, and local z-axis $[0,0,1]$. Solve for the missing displacements and reaction forces at the fixed node."
   ]
  },
  {
   "cell_type": "code",
   "execution_count": 1,
   "metadata": {},
   "outputs": [],
   "source": [
    "import numpy as np\n",
    "from a2 import direct_stiffness_method as dsm\n",
    "\n",
    "############### USER INPUTS ################\n",
    "\n",
    "nodes = np.array([[0, 0, 0], [1, 0, 0]])\n",
    "elements = np.array([[0, 1]])\n",
    "subdomain_dict = {1:[210e9,0.3,0.01,1e-5,1e-5,1e-5,1e-5,[0,0,1]]}\n",
    "subdomain_elements = {1:[0]}\n",
    "list_fixed_nodes_id = [0]\n",
    "list_pinned_nodes_id = []\n",
    "load_dict = {1:[0,-1000,0,0,0,0]}\n",
    "\n",
    "############################################\n",
    "\n",
    "disps,rxns = dsm.generate_mesh_and_solve(\n",
    "        nodes,elements,subdomain_dict,subdomain_elements,list_fixed_nodes_id,list_pinned_nodes_id,load_dict\n",
    "    )"
   ]
  },
  {
   "cell_type": "code",
   "execution_count": 2,
   "metadata": {},
   "outputs": [
    {
     "name": "stdout",
     "output_type": "stream",
     "text": [
      "node 0 has displacements [0. 0. 0. 0. 0. 0.] and reaction forces [    0.  1000.     0.     0.     0. -1000.]\n",
      "------------------------------------------------------------------\n",
      "node 1 has displacements [ 0.         -0.00015873  0.          0.          0.          0.0002381 ] and reaction forces [0. 0. 0. 0. 0. 0.]\n",
      "------------------------------------------------------------------\n"
     ]
    }
   ],
   "source": [
    "for node_id,(disp,rxn) in enumerate(zip(disps,rxns)):\n",
    "    print(f'node {node_id} has displacements {disp} and reaction forces {rxn}')\n",
    "    print('------------------------------------------------------------------')"
   ]
  },
  {
   "cell_type": "markdown",
   "metadata": {},
   "source": [
    "## Template to run code - Put your mesh and problem here!\n",
    "\n",
    "Here we provide a blank template to run the code. Please provide the inputs as follow:\n",
    "\n",
    "**INPUTS**:\n",
    "\n",
    "- _nodes_: a n by 3 array containing the 3D coordinates of the mesh, where n is the number of nodes.\n",
    "\n",
    "- _elements_: a m by 2 array containing the connectivities of the mesh, where m is the number of elements.\n",
    "\n",
    "- _subdomain_dict_: a dictionary containing the properties of the material, where the key stores the ID for the subdomain, and the value a list of properties.\n",
    "        e.g., subdomain 1 with list of properties E, nu, A, I_z, I_y, I_p, J, local_z_axis - \n",
    "        ``{1:[E,nu,A,I_z,I_y,I_p,J,local_z_axis]}``\n",
    "\n",
    "- _subdomain_elements_: a dictionary containing the elements subdomain assignments.\n",
    "        e.g., subdomain 1 has elements 0,1 - ``{1:[0,1]}``\n",
    "\n",
    "- _list_fixed_nodes_id_: a list containing the node IDs for fixed nodes.\n",
    "        e.g., ``[0]``\n",
    "\n",
    "- _list_pinned_nodes_id_: a list containing the node IDs for pinned nodes.\n",
    "\n",
    "- _load_dict_: a dictionary where the key is the node ID of the load applied, and the value the list representing the load applied.\n",
    "        e.g., ``{node_id:[F_x,F_y,F_z,M_x,M_y,M_z]}``\n",
    "\n",
    "**OUTPUTS**:\n",
    "\n",
    "- _disps_: n by 6 array containing the global nodal displacements ``[u_x,u_y,u_z,theta_x,theta_y,theta_z]``\n",
    "\n",
    "- _rxns_: n by 6 array containing the global rxn forces ``[F_x,F_y,F_z,M_x,M_y,M_z]``"
   ]
  },
  {
   "cell_type": "code",
   "execution_count": null,
   "metadata": {},
   "outputs": [],
   "source": [
    "import numpy as np\n",
    "from a2 import direct_stiffness_method as dsm\n",
    "\n",
    "############### USER INPUTS ################\n",
    "\n",
    "nodes = np.array([[0, 0, 0], [1, 0, 0]])\n",
    "elements = np.array([[0, 1]])\n",
    "subdomain_dict = {1:[210e9,0.3,0.01,1e-5,1e-5,1e-5,1e-5,[0,0,1]]}\n",
    "subdomain_elements = {1:[0]}\n",
    "list_fixed_nodes_id = [0]\n",
    "list_pinned_nodes_id = []\n",
    "load_dict = {1:[0,-1000,0,0,0,0]}\n",
    "\n",
    "############################################\n",
    "\n",
    "disps,rxns = dsm.generate_mesh_and_solve(\n",
    "        nodes,elements,subdomain_dict,subdomain_elements,list_fixed_nodes_id,list_pinned_nodes_id,load_dict\n",
    "    )"
   ]
  },
  {
   "cell_type": "code",
   "execution_count": null,
   "metadata": {},
   "outputs": [],
   "source": [
    "for node_id,(disp,rxn) in enumerate(zip(disps,rxns)):\n",
    "    print(f'node {node_id} has displacements {disp} and reaction forces {rxn}')\n",
    "    print('------------------------------------------------------------------')"
   ]
  }
 ],
 "metadata": {
  "kernelspec": {
   "display_name": "Python 3",
   "language": "python",
   "name": "python3"
  },
  "language_info": {
   "codemirror_mode": {
    "name": "ipython",
    "version": 3
   },
   "file_extension": ".py",
   "mimetype": "text/x-python",
   "name": "python",
   "nbconvert_exporter": "python",
   "pygments_lexer": "ipython3",
   "version": "3.9.12"
  }
 },
 "nbformat": 4,
 "nbformat_minor": 2
}
