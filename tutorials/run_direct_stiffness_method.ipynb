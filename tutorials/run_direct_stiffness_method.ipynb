{
 "cells": [
  {
   "cell_type": "markdown",
   "metadata": {},
   "source": [
    "## Example problem - Single line\n",
    "\n",
    "We have a single beam with 2 connected nodes, one at $[0,0,0]$, and one at $[1,0,0]$. The left node is fixed, and the right node experiences an external force $F_y=-1000$. The beam has the following properties $E=210e9$,$\\nu=0.3$,$A=0.01$,$I_z=1e-5$,$I_y=1e-5$,$I_p=1e-5$,$J=1.0$, and local z-axis $[0,0,1]$. Solve for the missing displacements and reaction forces at the fixed node."
   ]
  },
  {
   "cell_type": "code",
   "execution_count": 1,
   "metadata": {},
   "outputs": [
    {
     "name": "stdout",
     "output_type": "stream",
     "text": [
      "node 0 disp: [u:0.0, v:0.0, w:0.0, theta_x:0.0, theta_y:0.0, theta_z:0.0]\n",
      "node 0 rxn: [Fx:0.0, Fy:1000.0, Fz:0.0, Mx:0.0, My:0.0, Mz:1000.0]\n",
      "------------------------------------------------------------------\n",
      "node 1 disp: [u:0.0, v:-0.00016, w:0.0, theta_x:0.0, theta_y:0.0, theta_z:-0.00024]\n",
      "node 1 rxn: [Fx:0.0, Fy:0.0, Fz:0.0, Mx:0.0, My:0.0, Mz:0.0]\n",
      "------------------------------------------------------------------\n"
     ]
    }
   ],
   "source": [
    "import numpy as np\n",
    "from a2 import direct_stiffness_method as dsm\n",
    "\n",
    "# Define nodes and elements\n",
    "nodes = np.array([[0, 0, 0], [1, 0, 0]])\n",
    "elements = np.array([[0, 1]])\n",
    "\n",
    "# Define subdomains and material properties\n",
    "subdomain_dict = {1:[210e9,0.3,0.01,1e-5,1e-5,1e-5,1e-5,[0,0,1]]}\n",
    "subdomain_elements = {1:[0]}\n",
    "\n",
    "# Define supports and loads\n",
    "supports = {0: (0, 0, 0, 0, 0, 0)} # Fixed support at node 0\n",
    "loads = {1:[0,-1000,0,0,0,0]}  # Load at node 1\n",
    "\n",
    "# Initialize classes\n",
    "mesh = dsm.Mesh(nodes, elements)\n",
    "materials = dsm.MaterialParams(subdomain_dict)\n",
    "for subdomain_id, elements_in_sub in subdomain_elements.items():\n",
    "    materials.assign_subdomain(subdomain_id, elements_in_sub)\n",
    "\n",
    "bcs = dsm.BoundaryConditions(supports)\n",
    "bcs.add_load(loads)\n",
    "\n",
    "# Solve the system\n",
    "solver = dsm.Solver(mesh, materials, bcs)\n",
    "displacements, reactions = solver.generate_mesh_and_solve()"
   ]
  },
  {
   "cell_type": "markdown",
   "metadata": {},
   "source": [
    "## In class examples"
   ]
  },
  {
   "cell_type": "markdown",
   "metadata": {},
   "source": [
    "### Example 1"
   ]
  },
  {
   "cell_type": "code",
   "execution_count": 2,
   "metadata": {},
   "outputs": [
    {
     "name": "stdout",
     "output_type": "stream",
     "text": [
      "node 0 disp: [u:0.0, v:0.0, w:0.0, theta_x:0.0, theta_y:0.0, theta_z:0.0]\n",
      "node 0 rxn: [Fx:-0.09468, Fy:-0.0342, Fz:0.0047, Mx:0.10799, My:-0.0236, Mz:-0.76302]\n",
      "------------------------------------------------------------------\n",
      "node 1 disp: [u:0.00284, v:1.59843, w:-0.00131, theta_x:-0.1472, theta_y:-0.01673, theta_z:0.18234]\n",
      "node 1 rxn: [Fx:0.0, Fy:0.0, Fz:0.0, Mx:0.0, My:0.0, Mz:0.0]\n",
      "------------------------------------------------------------------\n",
      "node 2 disp: [u:0.0, v:0.0, w:0.0, theta_x:-0.16616, theta_y:0.00879, theta_z:0.18234]\n",
      "node 2 rxn: [Fx:-0.00532, Fy:-0.0158, Fz:0.0653, Mx:0.0, My:0.0, Mz:0.0]\n",
      "------------------------------------------------------------------\n"
     ]
    }
   ],
   "source": [
    "import numpy as np\n",
    "from a2 import direct_stiffness_method as dsm\n",
    "\n",
    "# Define nodes and elements\n",
    "nodes = np.array([[0, 0, 10], [15, 0, 10],[15,0,0]])\n",
    "elements = np.array([[0, 1],[1,2]])\n",
    "\n",
    "# Define subdomains and material properties\n",
    "b,h=0.5,1.0\n",
    "E=1000\n",
    "nu=0.3\n",
    "A=b*h\n",
    "Iy=h*(b**3)/12\n",
    "Iz=b*(h**3)/12\n",
    "Ip=b*h/12*(b**2+h**2)\n",
    "J=0.02861\n",
    "E0_local_z=[0,0,1]\n",
    "E1_local_z=[1,0,0]\n",
    "subdomain_dict = {1:[E,nu,A,Iz,Iy,Ip,J,E0_local_z],\n",
    "                  2:[E,nu,A,Iz,Iy,Ip,J,E1_local_z]}\n",
    "subdomain_elements = {1:[0],2:[1]}\n",
    "\n",
    "# Define supports and loads\n",
    "supports = {0: (0, 0, 0, 0, 0, 0), # Fixed support at node 0\n",
    "            2: (0, 0, 0, None, None, None)}  # Pinned support at node 0\n",
    "loads = {1:[0.1,0.05,-0.07,0.05,-0.1,0.25]}  # Load at node 1\n",
    "\n",
    "# Initialize classes\n",
    "mesh = dsm.Mesh(nodes, elements)\n",
    "materials = dsm.MaterialParams(subdomain_dict)\n",
    "for subdomain_id, elements_in_sub in subdomain_elements.items():\n",
    "    materials.assign_subdomain(subdomain_id, elements_in_sub)\n",
    "\n",
    "bcs = dsm.BoundaryConditions(supports)\n",
    "bcs.add_load(loads)\n",
    "\n",
    "# Solve the system\n",
    "solver = dsm.Solver(mesh, materials, bcs)\n",
    "displacements, reactions = solver.generate_mesh_and_solve()"
   ]
  },
  {
   "cell_type": "markdown",
   "metadata": {},
   "source": [
    "### Example 2"
   ]
  },
  {
   "cell_type": "code",
   "execution_count": 3,
   "metadata": {},
   "outputs": [
    {
     "name": "stdout",
     "output_type": "stream",
     "text": [
      "node 0 disp: [u:0.16297, v:0.06754, w:0.0, theta_x:0.00386, theta_y:-0.00978, theta_z:0.00998]\n",
      "node 0 rxn: [Fx:0.0, Fy:0.0, Fz:0.00667, Mx:0.0, My:0.0, Mz:0.0]\n",
      "------------------------------------------------------------------\n",
      "node 1 disp: [u:0.05684, v:-0.02127, w:-0.04423, theta_x:0.00396, theta_y:-0.0093, theta_z:0.00998]\n",
      "node 1 rxn: [Fx:0.0, Fy:0.0, Fz:0.0, Mx:0.0, My:0.0, Mz:0.0]\n",
      "------------------------------------------------------------------\n",
      "node 2 disp: [u:0.00104, v:0.00109, w:0.00035, theta_x:0.00314, theta_y:-0.00401, theta_z:0.00514]\n",
      "node 2 rxn: [Fx:0.0, Fy:0.0, Fz:0.0, Mx:0.0, My:0.0, Mz:0.0]\n",
      "------------------------------------------------------------------\n",
      "node 3 disp: [u:0.0, v:0.0, w:0.0, theta_x:0.0, theta_y:0.0, theta_z:0.0]\n",
      "node 3 rxn: [Fx:-0.02351, Fy:0.13795, Fz:0.02532, Mx:-0.41161, My:0.29812, Mz:-0.36144]\n",
      "------------------------------------------------------------------\n",
      "node 4 disp: [u:0.0, v:0.0, w:0.0, theta_x:-0.00455, theta_y:0.00049, theta_z:0.00066]\n",
      "node 4 rxn: [Fx:-0.07649, Fy:-0.08795, Fz:0.043, Mx:0.0, My:0.0, Mz:0.0]\n",
      "------------------------------------------------------------------\n"
     ]
    }
   ],
   "source": [
    "import numpy as np\n",
    "from a2 import direct_stiffness_method as dsm\n",
    "\n",
    "# Define nodes and elements\n",
    "nodes = np.array([[0, 0, 0], [-5, 1, 10],[-1,5,13],[-3,7,11],[6,9,5]])\n",
    "elements = np.array([[0, 1],[1,2],[2,3],[2,4]])\n",
    "\n",
    "# Define subdomains and material properties\n",
    "r=1\n",
    "E=500\n",
    "nu=0.3\n",
    "A=np.pi*r**2\n",
    "Iy=Iz=np.pi*r**4/4\n",
    "Ip=J=np.pi*r**4/2\n",
    "subdomain_dict = {1:[E,nu,A,Iz,Iy,Ip,J]}\n",
    "subdomain_elements = {1:[0,1,2,3]}\n",
    "\n",
    "# Define supports and loads\n",
    "supports = {0: (None, None, 0, None, None, None), # Fixed support at node 0\n",
    "            3: (0, 0, 0, 0, 0, 0),\n",
    "            4: (0,0,0,None,None,None)}  # Pinned support at node 0\n",
    "loads = {1:[0.1,-0.05,-0.075,0,0,0],\n",
    "         2:[0,0,0,0.5,-0.1,0.3]}  # Load at node 1\n",
    "\n",
    "# Initialize classes\n",
    "mesh = dsm.Mesh(nodes, elements)\n",
    "materials = dsm.MaterialParams(subdomain_dict)\n",
    "for subdomain_id, elements_in_sub in subdomain_elements.items():\n",
    "    materials.assign_subdomain(subdomain_id, elements_in_sub)\n",
    "\n",
    "bcs = dsm.BoundaryConditions(supports)\n",
    "bcs.add_load(loads)\n",
    "\n",
    "# Solve the system\n",
    "solver = dsm.Solver(mesh, materials, bcs)\n",
    "displacements, reactions = solver.generate_mesh_and_solve()"
   ]
  },
  {
   "cell_type": "markdown",
   "metadata": {},
   "source": [
    "## Template to run code - Put your mesh and problem here!\n",
    "\n",
    "In the ``tutorials`` folder, we provide the ``run_direct_stiffness_method.ipynb``. You can use the template below to run the code. Please provide the inputs as follow:\n",
    "\n",
    "**INPUTS**:\n",
    "\n",
    "- _nodes_: a n by 3 array containing the 3D coordinates of the mesh, where n is the number of nodes.\n",
    "\n",
    "- _elements_: a m by 2 array containing the connectivities of the mesh, where m is the number of elements.\n",
    "\n",
    "- _subdomain_dict_: a dictionary containing the properties of the material, where the key stores the ID for the subdomain, and the value a list of properties.\n",
    "        e.g., subdomain 1 with list of properties E, nu, A, I_z, I_y, I_p, J, local_z_axis - \n",
    "        ``{1:[E,nu,A,I_z,I_y,I_p,J,local_z_axis]}``. Note: You can input without any local_z_axis, default is None.\n",
    "\n",
    "- _subdomain_elements_: a dictionary containing the elements subdomain assignments.\n",
    "        e.g., subdomain 1 has elements 0,1 - ``{1:[0,1]}``.\n",
    "\n",
    "- _supports_: a dictionary where the key is the node ID, and the value the list representing the boundary condition. e.g., ``{node_id:[u_x,u_y,u_x,theta_x,theta_y,theta_z]}.\n",
    "\n",
    "- _load_dict_: a dictionary where the key is the node ID of the load applied, and the value the list representing the load applied.\n",
    "        e.g., ``{node_id:[F_x,F_y,F_z,M_x,M_y,M_z]}``.\n",
    "\n",
    "**OUTPUTS**:\n",
    "\n",
    "- _displacements_: n by 6 array containing the global nodal displacements ``[u_x,u_y,u_z,theta_x,theta_y,theta_z]``.\n",
    "\n",
    "- _reactions_: n by 6 array containing the global rxn forces ``[F_x,F_y,F_z,M_x,M_y,M_z]``."
   ]
  },
  {
   "cell_type": "code",
   "execution_count": null,
   "metadata": {},
   "outputs": [],
   "source": [
    "import numpy as np\n",
    "from a2 import direct_stiffness_method as dsm\n",
    "\n",
    "# nodes = np.array([[x1,y1,z1],[x2,y2,z2]])\n",
    "nodes = np.array([[0, 0, 10], [15, 0, 10],[15,0,0]])\n",
    "\n",
    "# elements = np.array([[node1,node2],[node2,node3]])\n",
    "elements = np.array([[0, 1],[1,2]])\n",
    "\n",
    "# Define subdomains and material properties\n",
    "E=\n",
    "nu=\n",
    "A=\n",
    "Iz=\n",
    "Iy=\n",
    "Ip=\n",
    "J=\n",
    "E0_local_z=\n",
    "E1_local_z=\n",
    "# subdomain_dict = {subdomain_id:[E,nu,A,I_z,I_y,I_p,J,local_z_axis]}\n",
    "subdomain_dict = {1:[E,nu,A,Iz,Iy,Ip,J,E0_local_z],\n",
    "                  2:[E,nu,A,Iz,Iy,Ip,J,E1_local_z]}\n",
    "\n",
    "# subdomain_elements = {subdomain_id:[node_ids]}\n",
    "subdomain_elements = {1:[0],2:[1]}\n",
    "\n",
    "# supports = {node_id:[u_x,u_y,u_x,theta_x,theta_y,theta_z]}\n",
    "supports = {0: (0, 0, 0, 0, 0, 0),\n",
    "            2: (0, 0, 0, None, None, None)}\n",
    "\n",
    "# loads = {node_id:[F_x,F_y,F_z,M_x,M_y,M_z]}\n",
    "loads = {1:[0.1,0.05,-0.07,0.05,-0.1,0.25]}  # Load at node 1\n",
    "\n",
    "# Initialize classes\n",
    "mesh = dsm.Mesh(nodes, elements)\n",
    "materials = dsm.MaterialParams(subdomain_dict)\n",
    "for subdomain_id, elements_in_sub in subdomain_elements.items():\n",
    "    materials.assign_subdomain(subdomain_id, elements_in_sub)\n",
    "\n",
    "bcs = dsm.BoundaryConditions(supports)\n",
    "bcs.add_load(loads)\n",
    "\n",
    "# Solve the system\n",
    "solver = dsm.Solver(mesh, materials, bcs)\n",
    "displacements, reactions = solver.generate_mesh_and_solve()"
   ]
  }
 ],
 "metadata": {
  "kernelspec": {
   "display_name": "Python 3",
   "language": "python",
   "name": "python3"
  },
  "language_info": {
   "codemirror_mode": {
    "name": "ipython",
    "version": 3
   },
   "file_extension": ".py",
   "mimetype": "text/x-python",
   "name": "python",
   "nbconvert_exporter": "python",
   "pygments_lexer": "ipython3",
   "version": "3.9.12"
  }
 },
 "nbformat": 4,
 "nbformat_minor": 2
}
